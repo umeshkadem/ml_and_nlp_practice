{
 "cells": [
  {
   "cell_type": "code",
   "execution_count": 12,
   "id": "9339666a-70a9-4565-aa97-b7663e51e62c",
   "metadata": {},
   "outputs": [],
   "source": [
    "import pandas as pd\n",
    "from sklearn.model_selection import GridSearchCV,RandomizedSearchCV"
   ]
  },
  {
   "cell_type": "code",
   "execution_count": 4,
   "id": "e30e2764-3f8f-4791-9003-df618110116b",
   "metadata": {},
   "outputs": [],
   "source": [
    "from sklearn.datasets import load_digits\n",
    "digits = load_digits()"
   ]
  },
  {
   "cell_type": "code",
   "execution_count": 5,
   "id": "dd147a33-f001-49a8-8c39-c2da06166356",
   "metadata": {},
   "outputs": [
    {
     "data": {
      "text/plain": [
       "['DESCR', 'data', 'feature_names', 'frame', 'images', 'target', 'target_names']"
      ]
     },
     "execution_count": 5,
     "metadata": {},
     "output_type": "execute_result"
    }
   ],
   "source": [
    "dir(digits)"
   ]
  },
  {
   "cell_type": "code",
   "execution_count": 8,
   "id": "5d0198c9-5208-43cd-b960-1b4f2389929c",
   "metadata": {},
   "outputs": [
    {
     "data": {
      "text/plain": [
       "array([[ 0.,  0.,  5., ...,  0.,  0.,  0.],\n",
       "       [ 0.,  0.,  0., ..., 10.,  0.,  0.],\n",
       "       [ 0.,  0.,  0., ..., 16.,  9.,  0.],\n",
       "       ...,\n",
       "       [ 0.,  0.,  1., ...,  6.,  0.,  0.],\n",
       "       [ 0.,  0.,  2., ..., 12.,  0.,  0.],\n",
       "       [ 0.,  0., 10., ..., 12.,  1.,  0.]])"
      ]
     },
     "execution_count": 8,
     "metadata": {},
     "output_type": "execute_result"
    }
   ],
   "source": [
    "data = digits.data\n",
    "data"
   ]
  },
  {
   "cell_type": "code",
   "execution_count": 9,
   "id": "1b532bb9-2cd0-4900-ba44-bd866deb4517",
   "metadata": {},
   "outputs": [
    {
     "data": {
      "text/plain": [
       "array([0, 1, 2, ..., 8, 9, 8])"
      ]
     },
     "execution_count": 9,
     "metadata": {},
     "output_type": "execute_result"
    }
   ],
   "source": [
    "target = digits.target\n",
    "target"
   ]
  },
  {
   "cell_type": "code",
   "execution_count": 15,
   "id": "dcfb450d-c834-4a06-8a24-98f8b2e0a13b",
   "metadata": {},
   "outputs": [],
   "source": [
    "# Now we using HyperParameterTuring\n",
    "from sklearn.svm import SVC\n",
    "from sklearn.linear_model import LogisticRegression\n",
    "from sklearn.ensemble import RandomForestClassifier\n",
    "from sklearn.naive_bayes import GaussianNB\n",
    "from sklearn.naive_bayes import MultinomialNB\n",
    "from sklearn.tree import DecisionTreeClassifier\n",
    "model_params = {\n",
    "    'svm': {'model': SVC(gamma='auto'), 'params': {'C':[1,10,20], 'kernel' : ['rbf', 'linear']}\n",
    "    },\n",
    "    'random_forest' : {'model':RandomForestClassifier(), 'params': {'n_estimators': [1,5,10]}\n",
    "    },\n",
    "    'logistic_reg' : {'model': LogisticRegression(solver='liblinear', multi_class='auto'), 'params' : {'C':[1,5,10]}\n",
    "    },\n",
    "     'naive_bayes_gaussian': {'model': GaussianNB(), 'params': {}\n",
    "    },\n",
    "    'naive_bayes_multinomial' : {'model':MultinomialNB(), 'params': {}\n",
    "    },\n",
    "    'decision_tree' : {'model': DecisionTreeClassifier(), 'params' : {'criterion':['gini', 'entropy']}\n",
    "    }\n",
    "}"
   ]
  },
  {
   "cell_type": "code",
   "execution_count": 16,
   "id": "7204ca8c-51e8-4395-b64d-154fb8f48d56",
   "metadata": {},
   "outputs": [],
   "source": [
    "scores = []\n",
    "for model_name, mp in model_params.items():\n",
    "    # here model_name and mp given below\n",
    "    \n",
    "    # svm\n",
    "    # {'model': SVC(gamma='auto'), 'params': {'C': [1, 10, 20], 'kernel': ['rbf', 'linear']}}\n",
    "    # random_forest\n",
    "    # {'model': RandomForestClassifier(), 'params': {'n_estimators': [1, 5, 10]}}\n",
    "    # logistic_reg\n",
    "    # {'model': LogisticRegression(solver='liblinear'), 'params': {'C': [1, 5, 10]}}\n",
    "\n",
    "    clf = GridSearchCV(mp['model'], mp['params'], cv=5, return_train_score=False)\n",
    "    clf.fit(data, target)\n",
    "    scores.append({\n",
    "        # here model_name is svm, rf and lreg\n",
    "        'model': model_name, \n",
    "        'best': clf.best_score_,\n",
    "        'best_params' : clf.best_params_\n",
    "    })"
   ]
  },
  {
   "cell_type": "code",
   "execution_count": 50,
   "id": "b4ceded6-0459-486f-8357-af817303b0e4",
   "metadata": {},
   "outputs": [
    {
     "data": {
      "text/html": [
       "<div>\n",
       "<style scoped>\n",
       "    .dataframe tbody tr th:only-of-type {\n",
       "        vertical-align: middle;\n",
       "    }\n",
       "\n",
       "    .dataframe tbody tr th {\n",
       "        vertical-align: top;\n",
       "    }\n",
       "\n",
       "    .dataframe thead th {\n",
       "        text-align: right;\n",
       "    }\n",
       "</style>\n",
       "<table border=\"1\" class=\"dataframe\">\n",
       "  <thead>\n",
       "    <tr style=\"text-align: right;\">\n",
       "      <th></th>\n",
       "      <th>model</th>\n",
       "      <th>best</th>\n",
       "      <th>best_params</th>\n",
       "    </tr>\n",
       "  </thead>\n",
       "  <tbody>\n",
       "    <tr>\n",
       "      <th>0</th>\n",
       "      <td>svm</td>\n",
       "      <td>0.947697</td>\n",
       "      <td>{'C': 1, 'kernel': 'linear'}</td>\n",
       "    </tr>\n",
       "  </tbody>\n",
       "</table>\n",
       "</div>"
      ],
      "text/plain": [
       "  model      best                   best_params\n",
       "0   svm  0.947697  {'C': 1, 'kernel': 'linear'}"
      ]
     },
     "execution_count": 50,
     "metadata": {},
     "output_type": "execute_result"
    }
   ],
   "source": [
    "df = pd.DataFrame(scores, columns=['model', 'best', 'best_params'])\n",
    "df[df['best'] == df['best'].max()]"
   ]
  },
  {
   "cell_type": "code",
   "execution_count": null,
   "id": "3430b7ff-4e86-4b80-85fe-98f4d00abd11",
   "metadata": {},
   "outputs": [],
   "source": [
    "# how to choose the best model"
   ]
  }
 ],
 "metadata": {
  "kernelspec": {
   "display_name": "Python 3 (ipykernel)",
   "language": "python",
   "name": "python3"
  },
  "language_info": {
   "codemirror_mode": {
    "name": "ipython",
    "version": 3
   },
   "file_extension": ".py",
   "mimetype": "text/x-python",
   "name": "python",
   "nbconvert_exporter": "python",
   "pygments_lexer": "ipython3",
   "version": "3.11.7"
  }
 },
 "nbformat": 4,
 "nbformat_minor": 5
}
