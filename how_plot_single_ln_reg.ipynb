{
 "cells": [
  {
   "cell_type": "code",
   "execution_count": 61,
   "id": "5b554220-121e-468c-8b67-29851d8479b9",
   "metadata": {},
   "outputs": [],
   "source": [
    "# whenever if you draw fit line \n",
    "from sklearn.datasets import load_iris\n",
    "iris  =load_iris()"
   ]
  },
  {
   "cell_type": "code",
   "execution_count": 62,
   "id": "0ce4e986-b4b7-4b9e-a0d4-e8026f660ea2",
   "metadata": {},
   "outputs": [],
   "source": [
    "import pandas as pd\n"
   ]
  },
  {
   "cell_type": "code",
   "execution_count": 63,
   "id": "062b9cfa-d300-4af0-8d88-617d65cf3360",
   "metadata": {},
   "outputs": [
    {
     "data": {
      "text/plain": [
       "['DESCR',\n",
       " 'data',\n",
       " 'data_module',\n",
       " 'feature_names',\n",
       " 'filename',\n",
       " 'frame',\n",
       " 'target',\n",
       " 'target_names']"
      ]
     },
     "execution_count": 63,
     "metadata": {},
     "output_type": "execute_result"
    }
   ],
   "source": [
    "dir(iris)"
   ]
  },
  {
   "cell_type": "code",
   "execution_count": 64,
   "id": "7de4c14c-9e51-487e-a8a4-30ac3d6a9879",
   "metadata": {},
   "outputs": [],
   "source": [
    "df = pd.DataFrame(data=iris.data, columns=iris.feature_names)"
   ]
  },
  {
   "cell_type": "code",
   "execution_count": 65,
   "id": "079f50b2-3d3e-4e70-a057-7e7b4a526867",
   "metadata": {},
   "outputs": [
    {
     "data": {
      "text/html": [
       "<div>\n",
       "<style scoped>\n",
       "    .dataframe tbody tr th:only-of-type {\n",
       "        vertical-align: middle;\n",
       "    }\n",
       "\n",
       "    .dataframe tbody tr th {\n",
       "        vertical-align: top;\n",
       "    }\n",
       "\n",
       "    .dataframe thead th {\n",
       "        text-align: right;\n",
       "    }\n",
       "</style>\n",
       "<table border=\"1\" class=\"dataframe\">\n",
       "  <thead>\n",
       "    <tr style=\"text-align: right;\">\n",
       "      <th></th>\n",
       "      <th>sepal length (cm)</th>\n",
       "      <th>sepal width (cm)</th>\n",
       "      <th>petal length (cm)</th>\n",
       "      <th>petal width (cm)</th>\n",
       "    </tr>\n",
       "  </thead>\n",
       "  <tbody>\n",
       "    <tr>\n",
       "      <th>0</th>\n",
       "      <td>5.1</td>\n",
       "      <td>3.5</td>\n",
       "      <td>1.4</td>\n",
       "      <td>0.2</td>\n",
       "    </tr>\n",
       "    <tr>\n",
       "      <th>1</th>\n",
       "      <td>4.9</td>\n",
       "      <td>3.0</td>\n",
       "      <td>1.4</td>\n",
       "      <td>0.2</td>\n",
       "    </tr>\n",
       "    <tr>\n",
       "      <th>2</th>\n",
       "      <td>4.7</td>\n",
       "      <td>3.2</td>\n",
       "      <td>1.3</td>\n",
       "      <td>0.2</td>\n",
       "    </tr>\n",
       "    <tr>\n",
       "      <th>3</th>\n",
       "      <td>4.6</td>\n",
       "      <td>3.1</td>\n",
       "      <td>1.5</td>\n",
       "      <td>0.2</td>\n",
       "    </tr>\n",
       "    <tr>\n",
       "      <th>4</th>\n",
       "      <td>5.0</td>\n",
       "      <td>3.6</td>\n",
       "      <td>1.4</td>\n",
       "      <td>0.2</td>\n",
       "    </tr>\n",
       "  </tbody>\n",
       "</table>\n",
       "</div>"
      ],
      "text/plain": [
       "   sepal length (cm)  sepal width (cm)  petal length (cm)  petal width (cm)\n",
       "0                5.1               3.5                1.4               0.2\n",
       "1                4.9               3.0                1.4               0.2\n",
       "2                4.7               3.2                1.3               0.2\n",
       "3                4.6               3.1                1.5               0.2\n",
       "4                5.0               3.6                1.4               0.2"
      ]
     },
     "execution_count": 65,
     "metadata": {},
     "output_type": "execute_result"
    }
   ],
   "source": [
    "df.head()"
   ]
  },
  {
   "cell_type": "code",
   "execution_count": 66,
   "id": "40c47c4d-88c4-49e9-9fa0-9041f742bb1e",
   "metadata": {},
   "outputs": [],
   "source": [
    "x = df['petal length (cm)']\n",
    "y = df['petal width (cm)']"
   ]
  },
  {
   "cell_type": "code",
   "execution_count": 67,
   "id": "a73b801e-d350-4aad-b13d-84866bf36bb2",
   "metadata": {},
   "outputs": [],
   "source": [
    "from sklearn.model_selection import train_test_split\n",
    "x_train, x_test, y_train, y_test = train_test_split(x, y, test_size=0.3, random_state=10)"
   ]
  },
  {
   "cell_type": "code",
   "execution_count": 68,
   "id": "496c90d5-8277-4a23-9b82-0f74992bdf08",
   "metadata": {},
   "outputs": [],
   "source": [
    "import matplotlib.pyplot as plt\n",
    "import seaborn as sns"
   ]
  },
  {
   "cell_type": "code",
   "execution_count": 69,
   "id": "efed30e3-5811-48b7-a3df-4b4624bc0d26",
   "metadata": {},
   "outputs": [],
   "source": [
    "# plt.scatter(x,y)"
   ]
  },
  {
   "cell_type": "code",
   "execution_count": 70,
   "id": "1a896788-c943-48b9-81b9-d8369cdbe8e3",
   "metadata": {},
   "outputs": [
    {
     "data": {
      "text/html": [
       "<style>#sk-container-id-3 {color: black;background-color: white;}#sk-container-id-3 pre{padding: 0;}#sk-container-id-3 div.sk-toggleable {background-color: white;}#sk-container-id-3 label.sk-toggleable__label {cursor: pointer;display: block;width: 100%;margin-bottom: 0;padding: 0.3em;box-sizing: border-box;text-align: center;}#sk-container-id-3 label.sk-toggleable__label-arrow:before {content: \"▸\";float: left;margin-right: 0.25em;color: #696969;}#sk-container-id-3 label.sk-toggleable__label-arrow:hover:before {color: black;}#sk-container-id-3 div.sk-estimator:hover label.sk-toggleable__label-arrow:before {color: black;}#sk-container-id-3 div.sk-toggleable__content {max-height: 0;max-width: 0;overflow: hidden;text-align: left;background-color: #f0f8ff;}#sk-container-id-3 div.sk-toggleable__content pre {margin: 0.2em;color: black;border-radius: 0.25em;background-color: #f0f8ff;}#sk-container-id-3 input.sk-toggleable__control:checked~div.sk-toggleable__content {max-height: 200px;max-width: 100%;overflow: auto;}#sk-container-id-3 input.sk-toggleable__control:checked~label.sk-toggleable__label-arrow:before {content: \"▾\";}#sk-container-id-3 div.sk-estimator input.sk-toggleable__control:checked~label.sk-toggleable__label {background-color: #d4ebff;}#sk-container-id-3 div.sk-label input.sk-toggleable__control:checked~label.sk-toggleable__label {background-color: #d4ebff;}#sk-container-id-3 input.sk-hidden--visually {border: 0;clip: rect(1px 1px 1px 1px);clip: rect(1px, 1px, 1px, 1px);height: 1px;margin: -1px;overflow: hidden;padding: 0;position: absolute;width: 1px;}#sk-container-id-3 div.sk-estimator {font-family: monospace;background-color: #f0f8ff;border: 1px dotted black;border-radius: 0.25em;box-sizing: border-box;margin-bottom: 0.5em;}#sk-container-id-3 div.sk-estimator:hover {background-color: #d4ebff;}#sk-container-id-3 div.sk-parallel-item::after {content: \"\";width: 100%;border-bottom: 1px solid gray;flex-grow: 1;}#sk-container-id-3 div.sk-label:hover label.sk-toggleable__label {background-color: #d4ebff;}#sk-container-id-3 div.sk-serial::before {content: \"\";position: absolute;border-left: 1px solid gray;box-sizing: border-box;top: 0;bottom: 0;left: 50%;z-index: 0;}#sk-container-id-3 div.sk-serial {display: flex;flex-direction: column;align-items: center;background-color: white;padding-right: 0.2em;padding-left: 0.2em;position: relative;}#sk-container-id-3 div.sk-item {position: relative;z-index: 1;}#sk-container-id-3 div.sk-parallel {display: flex;align-items: stretch;justify-content: center;background-color: white;position: relative;}#sk-container-id-3 div.sk-item::before, #sk-container-id-3 div.sk-parallel-item::before {content: \"\";position: absolute;border-left: 1px solid gray;box-sizing: border-box;top: 0;bottom: 0;left: 50%;z-index: -1;}#sk-container-id-3 div.sk-parallel-item {display: flex;flex-direction: column;z-index: 1;position: relative;background-color: white;}#sk-container-id-3 div.sk-parallel-item:first-child::after {align-self: flex-end;width: 50%;}#sk-container-id-3 div.sk-parallel-item:last-child::after {align-self: flex-start;width: 50%;}#sk-container-id-3 div.sk-parallel-item:only-child::after {width: 0;}#sk-container-id-3 div.sk-dashed-wrapped {border: 1px dashed gray;margin: 0 0.4em 0.5em 0.4em;box-sizing: border-box;padding-bottom: 0.4em;background-color: white;}#sk-container-id-3 div.sk-label label {font-family: monospace;font-weight: bold;display: inline-block;line-height: 1.2em;}#sk-container-id-3 div.sk-label-container {text-align: center;}#sk-container-id-3 div.sk-container {/* jupyter's `normalize.less` sets `[hidden] { display: none; }` but bootstrap.min.css set `[hidden] { display: none !important; }` so we also need the `!important` here to be able to override the default hidden behavior on the sphinx rendered scikit-learn.org. See: https://github.com/scikit-learn/scikit-learn/issues/21755 */display: inline-block !important;position: relative;}#sk-container-id-3 div.sk-text-repr-fallback {display: none;}</style><div id=\"sk-container-id-3\" class=\"sk-top-container\"><div class=\"sk-text-repr-fallback\"><pre>LinearRegression()</pre><b>In a Jupyter environment, please rerun this cell to show the HTML representation or trust the notebook. <br />On GitHub, the HTML representation is unable to render, please try loading this page with nbviewer.org.</b></div><div class=\"sk-container\" hidden><div class=\"sk-item\"><div class=\"sk-estimator sk-toggleable\"><input class=\"sk-toggleable__control sk-hidden--visually\" id=\"sk-estimator-id-3\" type=\"checkbox\" checked><label for=\"sk-estimator-id-3\" class=\"sk-toggleable__label sk-toggleable__label-arrow\">LinearRegression</label><div class=\"sk-toggleable__content\"><pre>LinearRegression()</pre></div></div></div></div></div>"
      ],
      "text/plain": [
       "LinearRegression()"
      ]
     },
     "execution_count": 70,
     "metadata": {},
     "output_type": "execute_result"
    }
   ],
   "source": [
    "from sklearn.linear_model import LinearRegression\n",
    "reg = LinearRegression()\n",
    "reg"
   ]
  },
  {
   "cell_type": "code",
   "execution_count": 71,
   "id": "aab9591e-eb0c-45c9-82f0-0701150c0a4f",
   "metadata": {},
   "outputs": [
    {
     "data": {
      "text/plain": [
       "array([[1.5],\n",
       "       [4.9],\n",
       "       [4.8],\n",
       "       [4.9],\n",
       "       [5.7],\n",
       "       [4.5],\n",
       "       [6.1],\n",
       "       [3.7],\n",
       "       [4.5],\n",
       "       [4.5],\n",
       "       [1.2],\n",
       "       [1.5],\n",
       "       [4.7],\n",
       "       [1.7],\n",
       "       [5.5],\n",
       "       [1.6],\n",
       "       [1.5],\n",
       "       [4.5],\n",
       "       [3. ],\n",
       "       [5.6],\n",
       "       [1.4],\n",
       "       [5.4],\n",
       "       [1.4],\n",
       "       [3.9],\n",
       "       [5.1],\n",
       "       [1.3],\n",
       "       [5.9],\n",
       "       [6.4],\n",
       "       [5.5],\n",
       "       [6.6],\n",
       "       [5.1],\n",
       "       [1.4],\n",
       "       [3.5],\n",
       "       [5.8],\n",
       "       [4.1],\n",
       "       [1.5],\n",
       "       [5.6],\n",
       "       [4.7],\n",
       "       [4.2],\n",
       "       [1.4],\n",
       "       [1.7],\n",
       "       [1.9],\n",
       "       [4.5],\n",
       "       [6.1],\n",
       "       [5.6],\n",
       "       [4.4],\n",
       "       [1.5],\n",
       "       [1.6],\n",
       "       [1.4],\n",
       "       [5.8],\n",
       "       [5.1],\n",
       "       [4. ],\n",
       "       [3.8],\n",
       "       [5.1],\n",
       "       [5.2],\n",
       "       [5.1],\n",
       "       [5.6],\n",
       "       [4.3],\n",
       "       [1.4],\n",
       "       [1.6],\n",
       "       [4.2],\n",
       "       [1.7],\n",
       "       [1. ],\n",
       "       [4.9],\n",
       "       [3.3],\n",
       "       [1.7],\n",
       "       [1.5],\n",
       "       [1.3],\n",
       "       [3.3],\n",
       "       [1.5],\n",
       "       [4.4],\n",
       "       [1.4],\n",
       "       [4. ],\n",
       "       [5. ],\n",
       "       [1.6],\n",
       "       [4.7],\n",
       "       [4. ],\n",
       "       [5.4],\n",
       "       [1.6],\n",
       "       [4.8],\n",
       "       [1.1],\n",
       "       [3.9],\n",
       "       [5. ],\n",
       "       [6.1],\n",
       "       [5.6],\n",
       "       [1.4],\n",
       "       [4. ],\n",
       "       [6.7],\n",
       "       [6.3],\n",
       "       [4.1],\n",
       "       [4.6],\n",
       "       [6. ],\n",
       "       [1.3],\n",
       "       [5.3],\n",
       "       [1.3],\n",
       "       [1.4],\n",
       "       [4.7],\n",
       "       [1.4],\n",
       "       [5.2],\n",
       "       [4.9],\n",
       "       [5. ],\n",
       "       [3.6],\n",
       "       [1.5],\n",
       "       [6. ],\n",
       "       [1.5]])"
      ]
     },
     "execution_count": 71,
     "metadata": {},
     "output_type": "execute_result"
    }
   ],
   "source": [
    "import numpy as np\n",
    "x_train = np.array(x_train).reshape(-1,1)\n",
    "x_train"
   ]
  },
  {
   "cell_type": "code",
   "execution_count": 72,
   "id": "ab39f1f5-56d3-4427-bf67-605937b3910b",
   "metadata": {},
   "outputs": [
    {
     "data": {
      "text/plain": [
       "array([[4.4],\n",
       "       [5.3],\n",
       "       [1.5],\n",
       "       [4.6],\n",
       "       [1.4],\n",
       "       [3.5],\n",
       "       [4.9],\n",
       "       [4.1],\n",
       "       [1.5],\n",
       "       [4.5],\n",
       "       [4.5],\n",
       "       [5.1],\n",
       "       [4. ],\n",
       "       [1.4],\n",
       "       [1.5],\n",
       "       [5.5],\n",
       "       [4.5],\n",
       "       [1.3],\n",
       "       [1.5],\n",
       "       [1.2],\n",
       "       [5.9],\n",
       "       [5.6],\n",
       "       [4.8],\n",
       "       [1.9],\n",
       "       [4.2],\n",
       "       [1.3],\n",
       "       [4.2],\n",
       "       [4.4],\n",
       "       [4.8],\n",
       "       [6.7],\n",
       "       [4.6],\n",
       "       [4.3],\n",
       "       [5.8],\n",
       "       [5.1],\n",
       "       [5. ],\n",
       "       [1.4],\n",
       "       [5.7],\n",
       "       [5.7],\n",
       "       [6.9],\n",
       "       [5.1],\n",
       "       [1.6],\n",
       "       [1.6],\n",
       "       [3.9],\n",
       "       [1.3],\n",
       "       [4.7]])"
      ]
     },
     "execution_count": 72,
     "metadata": {},
     "output_type": "execute_result"
    }
   ],
   "source": [
    "x_test = np.array(x_test).reshape(-1,1)\n",
    "x_test"
   ]
  },
  {
   "cell_type": "code",
   "execution_count": 73,
   "id": "80688a95-8c0b-4e69-a034-49f577968dd8",
   "metadata": {},
   "outputs": [
    {
     "data": {
      "text/html": [
       "<style>#sk-container-id-4 {color: black;background-color: white;}#sk-container-id-4 pre{padding: 0;}#sk-container-id-4 div.sk-toggleable {background-color: white;}#sk-container-id-4 label.sk-toggleable__label {cursor: pointer;display: block;width: 100%;margin-bottom: 0;padding: 0.3em;box-sizing: border-box;text-align: center;}#sk-container-id-4 label.sk-toggleable__label-arrow:before {content: \"▸\";float: left;margin-right: 0.25em;color: #696969;}#sk-container-id-4 label.sk-toggleable__label-arrow:hover:before {color: black;}#sk-container-id-4 div.sk-estimator:hover label.sk-toggleable__label-arrow:before {color: black;}#sk-container-id-4 div.sk-toggleable__content {max-height: 0;max-width: 0;overflow: hidden;text-align: left;background-color: #f0f8ff;}#sk-container-id-4 div.sk-toggleable__content pre {margin: 0.2em;color: black;border-radius: 0.25em;background-color: #f0f8ff;}#sk-container-id-4 input.sk-toggleable__control:checked~div.sk-toggleable__content {max-height: 200px;max-width: 100%;overflow: auto;}#sk-container-id-4 input.sk-toggleable__control:checked~label.sk-toggleable__label-arrow:before {content: \"▾\";}#sk-container-id-4 div.sk-estimator input.sk-toggleable__control:checked~label.sk-toggleable__label {background-color: #d4ebff;}#sk-container-id-4 div.sk-label input.sk-toggleable__control:checked~label.sk-toggleable__label {background-color: #d4ebff;}#sk-container-id-4 input.sk-hidden--visually {border: 0;clip: rect(1px 1px 1px 1px);clip: rect(1px, 1px, 1px, 1px);height: 1px;margin: -1px;overflow: hidden;padding: 0;position: absolute;width: 1px;}#sk-container-id-4 div.sk-estimator {font-family: monospace;background-color: #f0f8ff;border: 1px dotted black;border-radius: 0.25em;box-sizing: border-box;margin-bottom: 0.5em;}#sk-container-id-4 div.sk-estimator:hover {background-color: #d4ebff;}#sk-container-id-4 div.sk-parallel-item::after {content: \"\";width: 100%;border-bottom: 1px solid gray;flex-grow: 1;}#sk-container-id-4 div.sk-label:hover label.sk-toggleable__label {background-color: #d4ebff;}#sk-container-id-4 div.sk-serial::before {content: \"\";position: absolute;border-left: 1px solid gray;box-sizing: border-box;top: 0;bottom: 0;left: 50%;z-index: 0;}#sk-container-id-4 div.sk-serial {display: flex;flex-direction: column;align-items: center;background-color: white;padding-right: 0.2em;padding-left: 0.2em;position: relative;}#sk-container-id-4 div.sk-item {position: relative;z-index: 1;}#sk-container-id-4 div.sk-parallel {display: flex;align-items: stretch;justify-content: center;background-color: white;position: relative;}#sk-container-id-4 div.sk-item::before, #sk-container-id-4 div.sk-parallel-item::before {content: \"\";position: absolute;border-left: 1px solid gray;box-sizing: border-box;top: 0;bottom: 0;left: 50%;z-index: -1;}#sk-container-id-4 div.sk-parallel-item {display: flex;flex-direction: column;z-index: 1;position: relative;background-color: white;}#sk-container-id-4 div.sk-parallel-item:first-child::after {align-self: flex-end;width: 50%;}#sk-container-id-4 div.sk-parallel-item:last-child::after {align-self: flex-start;width: 50%;}#sk-container-id-4 div.sk-parallel-item:only-child::after {width: 0;}#sk-container-id-4 div.sk-dashed-wrapped {border: 1px dashed gray;margin: 0 0.4em 0.5em 0.4em;box-sizing: border-box;padding-bottom: 0.4em;background-color: white;}#sk-container-id-4 div.sk-label label {font-family: monospace;font-weight: bold;display: inline-block;line-height: 1.2em;}#sk-container-id-4 div.sk-label-container {text-align: center;}#sk-container-id-4 div.sk-container {/* jupyter's `normalize.less` sets `[hidden] { display: none; }` but bootstrap.min.css set `[hidden] { display: none !important; }` so we also need the `!important` here to be able to override the default hidden behavior on the sphinx rendered scikit-learn.org. See: https://github.com/scikit-learn/scikit-learn/issues/21755 */display: inline-block !important;position: relative;}#sk-container-id-4 div.sk-text-repr-fallback {display: none;}</style><div id=\"sk-container-id-4\" class=\"sk-top-container\"><div class=\"sk-text-repr-fallback\"><pre>LinearRegression()</pre><b>In a Jupyter environment, please rerun this cell to show the HTML representation or trust the notebook. <br />On GitHub, the HTML representation is unable to render, please try loading this page with nbviewer.org.</b></div><div class=\"sk-container\" hidden><div class=\"sk-item\"><div class=\"sk-estimator sk-toggleable\"><input class=\"sk-toggleable__control sk-hidden--visually\" id=\"sk-estimator-id-4\" type=\"checkbox\" checked><label for=\"sk-estimator-id-4\" class=\"sk-toggleable__label sk-toggleable__label-arrow\">LinearRegression</label><div class=\"sk-toggleable__content\"><pre>LinearRegression()</pre></div></div></div></div></div>"
      ],
      "text/plain": [
       "LinearRegression()"
      ]
     },
     "execution_count": 73,
     "metadata": {},
     "output_type": "execute_result"
    }
   ],
   "source": [
    "reg.fit(x_train, y_train)"
   ]
  },
  {
   "cell_type": "code",
   "execution_count": 74,
   "id": "9bc1ef1c-295f-456e-87e6-5bdf85018d22",
   "metadata": {},
   "outputs": [],
   "source": [
    "m = reg.coef_"
   ]
  },
  {
   "cell_type": "code",
   "execution_count": 75,
   "id": "22ec6e39-b5a6-4aee-9804-087bc7406d31",
   "metadata": {},
   "outputs": [],
   "source": [
    "b = reg.intercept_"
   ]
  },
  {
   "cell_type": "code",
   "execution_count": 76,
   "id": "05235fa1-e6ea-46bb-920d-3b49fa7db480",
   "metadata": {},
   "outputs": [],
   "source": [
    "# y = mx+b where x is we can pass x_train or x_test\n",
    "y_train_predict1 = m*x_train+b"
   ]
  },
  {
   "cell_type": "code",
   "execution_count": 77,
   "id": "d97c8c30-4737-495e-8de5-930e5cf17eac",
   "metadata": {},
   "outputs": [],
   "source": [
    "y_train_predict2 = reg.predict(x_train)"
   ]
  },
  {
   "cell_type": "code",
   "execution_count": 78,
   "id": "80dcd80f-28ad-4196-aac8-ff099ab677a1",
   "metadata": {},
   "outputs": [
    {
     "data": {
      "text/plain": [
       "array([[0.25337029],\n",
       "       [1.6744701 ],\n",
       "       [1.63267305],\n",
       "       [1.6744701 ],\n",
       "       [2.00884653],\n",
       "       [1.50728189],\n",
       "       [2.17603474],\n",
       "       [1.17290546],\n",
       "       [1.50728189],\n",
       "       [1.50728189],\n",
       "       [0.12797913],\n",
       "       [0.25337029],\n",
       "       [1.590876  ],\n",
       "       [0.3369644 ],\n",
       "       [1.92525242],\n",
       "       [0.29516735],\n",
       "       [0.25337029],\n",
       "       [1.50728189],\n",
       "       [0.88032609],\n",
       "       [1.96704947],\n",
       "       [0.21157324],\n",
       "       [1.88345537],\n",
       "       [0.21157324],\n",
       "       [1.25649957],\n",
       "       [1.75806421],\n",
       "       [0.16977619],\n",
       "       [2.09244063],\n",
       "       [2.3014259 ],\n",
       "       [1.92525242],\n",
       "       [2.38502001],\n",
       "       [1.75806421],\n",
       "       [0.21157324],\n",
       "       [1.08931136],\n",
       "       [2.05064358],\n",
       "       [1.34009368],\n",
       "       [0.25337029],\n",
       "       [1.96704947],\n",
       "       [1.590876  ],\n",
       "       [1.38189073],\n",
       "       [0.21157324],\n",
       "       [0.3369644 ],\n",
       "       [0.42055851],\n",
       "       [1.50728189],\n",
       "       [2.17603474],\n",
       "       [1.96704947],\n",
       "       [1.46548484],\n",
       "       [0.25337029],\n",
       "       [0.29516735],\n",
       "       [0.21157324],\n",
       "       [2.05064358],\n",
       "       [1.75806421],\n",
       "       [1.29829662],\n",
       "       [1.21470252],\n",
       "       [1.75806421],\n",
       "       [1.79986126],\n",
       "       [1.75806421],\n",
       "       [1.96704947],\n",
       "       [1.42368778],\n",
       "       [0.21157324],\n",
       "       [0.29516735],\n",
       "       [1.38189073],\n",
       "       [0.3369644 ],\n",
       "       [0.04438503],\n",
       "       [1.6744701 ],\n",
       "       [1.00571725],\n",
       "       [0.3369644 ],\n",
       "       [0.25337029],\n",
       "       [0.16977619],\n",
       "       [1.00571725],\n",
       "       [0.25337029],\n",
       "       [1.46548484],\n",
       "       [0.21157324],\n",
       "       [1.29829662],\n",
       "       [1.71626715],\n",
       "       [0.29516735],\n",
       "       [1.590876  ],\n",
       "       [1.29829662],\n",
       "       [1.88345537],\n",
       "       [0.29516735],\n",
       "       [1.63267305],\n",
       "       [0.08618208],\n",
       "       [1.25649957],\n",
       "       [1.71626715],\n",
       "       [2.17603474],\n",
       "       [1.96704947],\n",
       "       [0.21157324],\n",
       "       [1.29829662],\n",
       "       [2.42681706],\n",
       "       [2.25962885],\n",
       "       [1.34009368],\n",
       "       [1.54907894],\n",
       "       [2.13423769],\n",
       "       [0.16977619],\n",
       "       [1.84165831],\n",
       "       [0.16977619],\n",
       "       [0.21157324],\n",
       "       [1.590876  ],\n",
       "       [0.21157324],\n",
       "       [1.79986126],\n",
       "       [1.6744701 ],\n",
       "       [1.71626715],\n",
       "       [1.13110841],\n",
       "       [0.25337029],\n",
       "       [2.13423769],\n",
       "       [0.25337029]])"
      ]
     },
     "execution_count": 78,
     "metadata": {},
     "output_type": "execute_result"
    }
   ],
   "source": [
    "y_train_predict1"
   ]
  },
  {
   "cell_type": "code",
   "execution_count": 87,
   "id": "8ec4594c-6091-4f3d-ac5b-9c869943bd3a",
   "metadata": {},
   "outputs": [
    {
     "data": {
      "text/plain": [
       "[<matplotlib.lines.Line2D at 0x2346d3fcb10>]"
      ]
     },
     "execution_count": 87,
     "metadata": {},
     "output_type": "execute_result"
    },
    {
     "data": {
      "image/png": "[encoded data removed]",
      "text/plain": [
       "<Figure size 640x480 with 1 Axes>"
      ]
     },
     "metadata": {},
     "output_type": "display_data"
    }
   ],
   "source": [
    "# for training data\n",
    "plt.scatter(x_train,y_train)\n",
    "plt.plot(x_train, y_train_predict2, color='red', marker='*')"
   ]
  },
  {
   "cell_type": "code",
   "execution_count": 88,
   "id": "a261f342-e16d-4df4-b988-418468fd6cee",
   "metadata": {},
   "outputs": [
    {
     "data": {
      "text/plain": [
       "[<matplotlib.lines.Line2D at 0x2346c0ed7d0>]"
      ]
     },
     "execution_count": 88,
     "metadata": {},
     "output_type": "execute_result"
    },
    {
     "data": {
      "image/png": "[encoded data removed]",
      "text/plain": [
       "<Figure size 640x480 with 1 Axes>"
      ]
     },
     "metadata": {},
     "output_type": "display_data"
    }
   ],
   "source": [
    "plt.scatter(x_train,y_train)\n",
    "plt.plot(x_train, y_train_predict1, color='red', marker='*')"
   ]
  },
  {
   "cell_type": "code",
   "execution_count": 81,
   "id": "7f8de5c3-0d3b-408c-abdf-58b0b912090a",
   "metadata": {},
   "outputs": [],
   "source": [
    "y_test_predict1 = m*x_test+b"
   ]
  },
  {
   "cell_type": "code",
   "execution_count": 82,
   "id": "9b8bd946-51b8-455b-8945-6aabe161e344",
   "metadata": {},
   "outputs": [],
   "source": [
    "y_test_predict2 = reg.predict(x_test)"
   ]
  },
  {
   "cell_type": "code",
   "execution_count": 91,
   "id": "ce560564-37e8-4e88-ba2b-1a30f836318d",
   "metadata": {},
   "outputs": [
    {
     "data": {
      "text/plain": [
       "[<matplotlib.lines.Line2D at 0x2346d3f8890>]"
      ]
     },
     "execution_count": 91,
     "metadata": {},
     "output_type": "execute_result"
    },
    {
     "data": {
      "image/png": "[encoded data removed]",
      "text/plain": [
       "<Figure size 640x480 with 1 Axes>"
      ]
     },
     "metadata": {},
     "output_type": "display_data"
    }
   ],
   "source": [
    "# for testing data\n",
    "plt.scatter(x_test,y_test)\n",
    "plt.plot(x_test, y_test_predict1, color='red')"
   ]
  },
  {
   "cell_type": "code",
   "execution_count": 84,
   "id": "706731a8-1d4c-45c6-9092-93d0632490d7",
   "metadata": {},
   "outputs": [
    {
     "data": {
      "text/plain": [
       "array([1.46548484, 1.84165831, 0.25337029, 1.54907894, 0.21157324,\n",
       "       1.08931136, 1.6744701 , 1.34009368, 0.25337029, 1.50728189,\n",
       "       1.50728189, 1.75806421, 1.29829662, 0.21157324, 0.25337029,\n",
       "       1.92525242, 1.50728189, 0.16977619, 0.25337029, 0.12797913,\n",
       "       2.09244063, 1.96704947, 1.63267305, 0.42055851, 1.38189073,\n",
       "       0.16977619, 1.38189073, 1.46548484, 1.63267305, 2.42681706,\n",
       "       1.54907894, 1.42368778, 2.05064358, 1.75806421, 1.71626715,\n",
       "       0.21157324, 2.00884653, 2.00884653, 2.51041116, 1.75806421,\n",
       "       0.29516735, 0.29516735, 1.25649957, 0.16977619, 1.590876  ])"
      ]
     },
     "execution_count": 84,
     "metadata": {},
     "output_type": "execute_result"
    }
   ],
   "source": [
    "y_test_predict2"
   ]
  },
  {
   "cell_type": "code",
   "execution_count": 90,
   "id": "9abc4e1a-d4da-45cd-ad32-8f5a6667546c",
   "metadata": {},
   "outputs": [
    {
     "data": {
      "text/plain": [
       "[<matplotlib.lines.Line2D at 0x2346d33aad0>]"
      ]
     },
     "execution_count": 90,
     "metadata": {},
     "output_type": "execute_result"
    },
    {
     "data": {
      "image/png": "[encoded data removed]",
      "text/plain": [
       "<Figure size 640x480 with 1 Axes>"
      ]
     },
     "metadata": {},
     "output_type": "display_data"
    }
   ],
   "source": [
    "plt.scatter(x_test, y_test)\n",
    "plt.plot(x_test, y_test_predict2, color='red')"
   ]
  },
  {
   "cell_type": "code",
   "execution_count": null,
   "id": "1c804c6f-4002-47a6-adaf-b29eedc10346",
   "metadata": {},
   "outputs": [],
   "source": []
  }
 ],
 "metadata": {
  "kernelspec": {
   "display_name": "Python 3 (ipykernel)",
   "language": "python",
   "name": "python3"
  },
  "language_info": {
   "codemirror_mode": {
    "name": "ipython",
    "version": 3
   },
   "file_extension": ".py",
   "mimetype": "text/x-python",
   "name": "python",
   "nbconvert_exporter": "python",
   "pygments_lexer": "ipython3",
   "version": "3.11.7"
  }
 },
 "nbformat": 4,
 "nbformat_minor": 5
}
